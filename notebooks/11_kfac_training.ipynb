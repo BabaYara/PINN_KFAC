{
 "cells": [
  {
   "cell_type": "markdown",
   "metadata": {},
   "source": ["# KFAC PINN Training"]
  },
  {
   "cell_type": "code",
   "metadata": {},
   "source": [
    "import jax\n",
    "import jax.numpy as jnp\n",
    "from networks import init_mlp\n",
    "from kron_utils import KFACOptimizer\n",
    "from pinns import train_pinn\n",
    "\n",
    "X_res = jnp.linspace(0.0, jnp.pi, 25).reshape(-1, 1)\n",
    "X_bc = jnp.array([[0.0], [jnp.pi]])\n",
    "bc_vals = jnp.array([0.0, 0.0])\n",
    "forcing = lambda x: -jnp.sin(x)\n",
    "\n",
    "key = jax.random.PRNGKey(0)\n",
    "params = init_mlp([1, 16, 16, 1], key)\n",
    "opt = KFACOptimizer(lr=0.05)\n",
    "trained = train_pinn(params, X_res, X_bc, bc_vals, forcing, opt, steps=10)\n",
    "trained[0][0].shape\n"
   ]
  }
 ],
 "metadata": {
  "kernelspec": {
   "display_name": "Python 3",
   "language": "python",
   "name": "python3"
  },
  "language_info": {
   "name": "python"
  }
 },
 "nbformat": 4,
 "nbformat_minor": 5
}
