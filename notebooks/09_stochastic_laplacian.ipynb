{
  "cells": [
    {
      "cell_type": "markdown",
      "metadata": {},
      "source": "# Stochastic Laplacian Demo"
    },
    {
      "cell_type": "code",
      "metadata": {},
      "source": ["import jax\n", "import jax.numpy as jnp\n", "from taylor_mode import stochastic_laplacian\n"]
    },
    {
      "cell_type": "code",
      "metadata": {},
      "source": ["f = lambda x: jnp.sum(x**2)\n", "x0 = jnp.zeros(2)\n", "approx = stochastic_laplacian(f, x0, samples=50)\n", "print('approximate Laplacian:', approx)\n"]
    }
  ],
  "metadata": {
    "kernelspec": {
      "display_name": "Python 3",
      "language": "python",
      "name": "python3"
    },
    "language_info": {
      "name": "python"
    }
  },
  "nbformat": 4,
  "nbformat_minor": 5
}
