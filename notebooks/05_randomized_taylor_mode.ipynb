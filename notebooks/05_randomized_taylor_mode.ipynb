{
 "cells": [
  {
   "cell_type": "markdown",
   "metadata": {},
   "source": "# Randomized Taylor-Mode"
  },
  {
   "cell_type": "code",
   "metadata": {},
   "source": ["import jax\n", "import jax.numpy as jnp\n", "from taylor_mode import stochastic_laplacian\n"]
  },
  {
   "cell_type": "code",
   "metadata": {},
   "source": ["f = lambda x: jnp.sum(x**2)\n", "x0 = jnp.zeros(3)\n", "approx = stochastic_laplacian(f, x0, samples=100)\n", "print('approx Laplacian:', approx)\n"]
  }
 ],
 "metadata": {
  "kernelspec": {
   "display_name": "Python 3",
   "language": "python",
   "name": "python3"
  },
  "language_info": {
   "name": "python"
  }
 },
 "nbformat": 4,
 "nbformat_minor": 5
}
