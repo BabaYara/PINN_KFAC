{
 "cells": [
  {
   "cell_type": "markdown",
   "metadata": {},
   "source": ["# Linear-Quadratic FBSDE Example"]
  },
  {
   "cell_type": "markdown",
   "metadata": {},
   "source": ["This notebook demonstrates solving a simple linear-quadratic forward\\nbackward stochastic differential equation (FBSDE) using the utilities in this repository."]
  },
  {
   "cell_type": "code",
   "execution_count": null,
   "metadata": {},
   "outputs": [],
   "source": ["import jax\n", "import jax.numpy as jnp\n", "from fbsde import solve_lq_fbsde\n"]
  },
  {
   "cell_type": "code",
   "execution_count": null,
   "metadata": {},
   "outputs": [],
   "source": ["key = jax.random.PRNGKey(0)\n", "times, X, Y, Z = solve_lq_fbsde(mu=0.1, sigma=0.2, Q=1.0, R=0.5, G=1.0, x0=1.0, T=1.0, N=50, key=key)\n", "times, X, Y, Z"]
  }
 ],
 "metadata": {
  "kernelspec": {
   "display_name": "Python 3",
   "language": "python",
   "name": "python3"
  },
  "language_info": {
   "name": "python",
   "version": "3.x"
  }
 },
 "nbformat": 4,
 "nbformat_minor": 5
}
