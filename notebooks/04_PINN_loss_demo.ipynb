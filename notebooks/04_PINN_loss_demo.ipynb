{
 "cells": [
  {
   "cell_type": "markdown",
   "metadata": {},
   "source": [
    "# PINN Loss Demo"
   ]
  },
  {
   "cell_type": "code",
   "metadata": {},
   "execution_count": null,
   "outputs": [],
   "source": [
    "import jax.numpy as jnp\n",
    "from pinns import pinn_loss\n",
    "\n",
    "model = lambda x: jnp.sin(x)\n",
    "forcing = lambda x: -jnp.sin(x)\n",
    "X_res = jnp.linspace(0.0, jnp.pi, 5).reshape(-1, 1)\n",
    "X_bc = jnp.array([[0.0], [jnp.pi]])\n",
    "bc_vals = jnp.array([0.0, 0.0])\n",
    "loss = pinn_loss(model, X_res, X_bc, bc_vals, forcing)\n",
    "print('loss', loss)"
   ]
  }
 ],
 "metadata": {
  "kernelspec": {
   "display_name": "Python 3",
   "language": "python",
   "name": "python3"
  },
  "language_info": {
   "name": "python",
   "version": "3"
  }
 },
 "nbformat": 4,
 "nbformat_minor": 5
}
