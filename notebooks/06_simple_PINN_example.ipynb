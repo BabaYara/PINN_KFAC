{
 "cells": [
  {
   "cell_type": "markdown",
   "id": "15bb9656",
   "metadata": {},
   "source": [
    "# Simple PINN Example"
   ]
  },
  {
   "cell_type": "code",
   "execution_count": null,
   "id": "fc8dfbcb",
   "metadata": {},
   "outputs": [],
   "source": [
    "import jax\n",
    "import jax.numpy as jnp\n",
    "from jax import random\n",
    "from taylor_mode import forward_derivatives\n"
   ]
  },
  {
   "cell_type": "code",
   "execution_count": null,
   "id": "916115cd",
   "metadata": {},
   "outputs": [],
   "source": [
    "# simple network\n",
    "def net(params, x):\n",
    "    for w, b in params[:-1]:\n",
    "        x = jnp.tanh(x @ w + b)\n",
    "    w, b = params[-1]\n",
    "    return (x @ w + b).squeeze()\n"
   ]
  },
  {
   "cell_type": "code",
   "execution_count": null,
   "id": "2ad3e564",
   "metadata": {},
   "outputs": [],
   "source": [
    "key = random.PRNGKey(0)\n",
    "params = [\n",
    "    (random.normal(key, (1, 10)), jnp.zeros(10)),\n",
    "    (random.normal(key, (10, 1)), jnp.zeros(1)),\n",
    "]\n"
   ]
  },
  {
   "cell_type": "code",
   "execution_count": null,
   "id": "0fed9b6e",
   "metadata": {},
   "outputs": [],
   "source": [
    "def f(x):\n",
    "    return net(params, x)\n",
    "\n",
    "x0 = jnp.array([[0.0]])\n",
    "val, derivs = forward_derivatives(f, x0, order=2)\n",
    "print('u(x0)=', val)\n",
    "print('du/dx=', derivs[1])\n",
    "print('d2u/dx2=', derivs[2])\n"
   ]
  }
 ],
 "metadata": {},
 "nbformat": 4,
 "nbformat_minor": 5
}
