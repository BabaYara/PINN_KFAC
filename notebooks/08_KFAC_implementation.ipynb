{
 "cells": [
  {
   "cell_type": "markdown",
   "metadata": {},
   "source": "# KFAC Demo"
  },
  {
   "cell_type": "code",
   "metadata": {},
   "source": [
    "import jax.numpy as jnp\n",
    "from kron_utils import KFACOptimizer\n"
   ]
  },
  {
   "cell_type": "code",
   "metadata": {},
   "source": [
    "params = [jnp.array(1.0)]\n",
    "grads = [jnp.array(0.5)]\n",
    "opt = KFACOptimizer(lr=0.1)\n",
    "print(opt.step(params, grads))\n"
   ]
  }
 ],
 "metadata": {
  "kernelspec": {
   "display_name": "Python 3",
   "language": "python",
   "name": "python3"
  },
  "language_info": {
   "name": "python"
  }
 },
 "nbformat": 4,
 "nbformat_minor": 5
}
