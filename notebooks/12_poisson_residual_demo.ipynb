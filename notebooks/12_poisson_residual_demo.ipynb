{
 "cells": [
  {
   "cell_type": "markdown",
   "metadata": {},
   "source": ["# Demonstration of `poisson_residual`"]
  },
  {
   "cell_type": "code",
   "metadata": {},
   "execution_count": null,
   "outputs": [],
   "source": ["import jax\n", "import jax.numpy as jnp\n", "from pinns.operators import poisson_residual\n"]
  },
  {
   "cell_type": "code",
   "metadata": {},
   "execution_count": null,
   "outputs": [],
   "source": ["model = lambda x: jnp.sin(x)\n", "forcing = lambda x: -jnp.sin(x)\n", "x = jnp.linspace(0.0, jnp.pi, 5).reshape(-1, 1)\n", "poisson_residual(model, x, forcing)"]
  }
 ],
 "metadata": {
  "kernelspec": {
   "display_name": "Python 3",
   "language": "python",
   "name": "python3"
  },
  "language_info": {
   "name": "python"
  }
 },
 "nbformat": 4,
 "nbformat_minor": 5
}
