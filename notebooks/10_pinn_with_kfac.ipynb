{
 "cells": [
  {
   "cell_type": "markdown",
   "metadata": {},
   "source": [
    "# PINN Training with KFAC"
   ]
  },
  {
   "cell_type": "code",
   "metadata": {},
   "execution_count": null,
   "outputs": [],
   "source": [
    "import jax\n",
    "import jax.numpy as jnp\n",
    "from networks import init_mlp, mlp_apply\n",
    "from pinns import pinn_loss\n",
    "from kron_utils import KFACOptimizer\n"
   ]
  },
  {
   "cell_type": "code",
   "metadata": {},
   "execution_count": null,
   "outputs": [],
   "source": [
    "# Collocation and boundary points\n",
    "X_res = jnp.linspace(0.0, jnp.pi, 25).reshape(-1, 1)\n",
    "X_bc = jnp.array([[0.0], [jnp.pi]])\n",
    "bc_vals = jnp.array([0.0, 0.0])\n",
    "forcing = lambda x: -jnp.sin(x)\n"
   ]
  },
  {
   "cell_type": "code",
   "metadata": {},
   "execution_count": null,
   "outputs": [],
   "source": [
    "key = jax.random.PRNGKey(0)\n",
    "params = init_mlp([1, 16, 16, 1], key)\n",
    "opt = KFACOptimizer(lr=0.05)\n",
    "state = opt.init([w for w, _ in params])\n"
   ]
  },
  {
   "cell_type": "code",
   "metadata": {},
   "execution_count": null,
   "outputs": [],
   "source": [
    "def model(ps, x):\n",
    "    return mlp_apply(ps, x)\n"
   ]
  },
  {
   "cell_type": "code",
   "metadata": {},
   "execution_count": null,
   "outputs": [],
   "source": [
    "def step(ps, opt_state):\n",
    "    def loss_fn(p_list):\n",
    "        full_params = [(p_list[i], params[i][1]) for i in range(len(p_list))]\n",
    "        return pinn_loss(lambda z: model(full_params, z), X_res, X_bc, bc_vals, forcing)\n",
    "    w_list = [w for w, _ in ps]\n",
    "    loss, grads = jax.value_and_grad(loss_fn)(w_list)\n",
    "    preds = jax.vmap(lambda z: model(ps, z))(X_res)\n",
    "    acts = [X_res] * len(ps)\n",
    "    backprops = [jnp.tile(loss, (X_res.shape[0], 1))] * len(ps)\n",
    "    new_ws, new_state = opt.step(w_list, grads, acts, backprops, opt_state)\n",
    "    new_ps = [(new_ws[i], ps[i][1]) for i in range(len(ps))]\n",
    "    return loss, new_ps, new_state\n"
   ]
  },
  {
   "cell_type": "code",
   "metadata": {},
   "execution_count": null,
   "outputs": [],
   "source": [
    "for i in range(50):\n",
    "    loss, params, state = step(params, state)\n",
    "loss
"
   ]
  }
 ],
 "metadata": {
  "kernelspec": {
   "display_name": "Python 3",
   "language": "python",
   "name": "python3"
  },
  "language_info": {
   "name": "python"
  }
 },
 "nbformat": 4,
 "nbformat_minor": 5
}
