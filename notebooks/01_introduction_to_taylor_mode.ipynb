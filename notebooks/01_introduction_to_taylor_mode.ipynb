{
 "cells": [
  {
   "cell_type": "markdown",
   "id": "c826edaa",
   "metadata": {},
   "source": [
    "# 01 - Introduction to Taylor Mode AD\n",
    "\n",
    "This tutorial provides **self‑contained, progressively richer** demonstrations of\n",
    "*Taylor‑mode* automatic differentiation via JAX’s experimental `jet` API.\n",
    "\n",
    "\n",
    "The key idea is that, instead of nesting `jax.grad` calls to obtain higher-order\n",
    "derivatives, we propagate **Taylor series coefficients** through the computation\n",
    "graph **once**. In one forward sweep we recover:\n",
    "\n",
    "$$ \\{f^{(k)}(x_0)\\}_{k=0}^K $$\n",
    "\n",
    "up to any order $K$.\n",
    "\n",
    "##  What you will learn\n",
    "* How Taylor‑mode propagates *series* rather than tangents.\n",
    "* A minimal scalar helper `taylor_coeffs` recovering \\(f^{(k)}(x_0)\\).\n",
    "* A general‑purpose vector helper `taylor_directional` for \\(f: \\mathbb R^n\\to\\mathbb R^m\\).\n",
    "* Recipes for Jacobians, Hessian–vector products, and higher‑order tensors.\n",
    "\n",
    "**Prerequisites**:\n",
    "\n",
    "Python ≥3.10, `jax` ≥0.4.20 and `matplotlib` (for the\n",
    "optional plot at the end). No code from the rest of the repository is\n",
    "required."
   ]
  },
  {
   "cell_type": "code",
   "execution_count": 3,
   "id": "37982147",
   "metadata": {},
   "outputs": [],
   "source": [
    "import math\n",
    "import jax\n",
    "import jax.numpy as jnp\n",
    "from jax.experimental import jet\n",
    "import matplotlib.pyplot as plt\n",
    "   \n",
    "import time\n",
    "import numpy as np\n",
    "\n",
    "# from utils.g_matrix import Gmat\n",
    "import sys\n",
    "sys.path.append('../src/') \n",
    "from utils.g_matrix import Gmat\n",
    "import matplotlib.pyplot as plt\n",
    "\n",
    "jax.config.update(\"jax_enable_x64\", True)"
   ]
  },
  {
   "cell_type": "code",
   "execution_count": null,
   "id": "c44281b7",
   "metadata": {},
   "outputs": [],
   "source": [
    "x0 = jnp.array([1.2, 1.1, 1.1, 2.13, 2.13, jnp.pi])\n",
    "\n",
    "# Function, computing [5, 5] element of G-matrix as a function\n",
    "# of 5-th coordinate, with other coordinates fixed as `x0`\n",
    "Gmat_x5_55 = lambda x5: Gmat(jnp.where(jnp.arange(6) == 5, x5, x0))[5, 5]\n",
    "\n",
    "# reference value for 5-th coordinate\n",
    "x5 = jnp.pi\n",
    "\n",
    "# maximal expansion order\n",
    "max_order = 8"
   ]
  },
  {
   "cell_type": "code",
   "execution_count": null,
   "id": "eafa42ab",
   "metadata": {},
   "outputs": [],
   "source": [
    "time_nested = np.zeros(max_order + 1)\n",
    "\n",
    "deriv_func = [Gmat_x5_55]\n",
    "for i in range(1, max_order + 1):\n",
    "    start = time.time()\n",
    "    deriv_func.append(jax.grad(deriv_func[i - 1]))\n",
    "    end = time.time()\n",
    "    time_nested[i] = end - start\n",
    "\n",
    "deriv_val_nested = np.zeros(max_order + 1)\n",
    "\n",
    "deriv_val_nested[0] = deriv_func[0](x5)\n",
    "for i in range(1, max_order + 1):\n",
    "    start = time.time()\n",
    "    deriv_val_nested[i] = deriv_func[i](x5)\n",
    "    end = time.time()\n",
    "    time_nested[i] += end - start\n",
    "\n",
    "# cumulative time for expansion order ranging from 1 to max_order\n",
    "time_nested = np.cumsum(time_nested)\n",
    "\n",
    "np.savez('_nested.npz', time=time_nested, val=deriv_val_nested)"
   ]
  },
  {
   "cell_type": "code",
   "execution_count": null,
   "id": "fe4a7fbf",
   "metadata": {},
   "outputs": [],
   "source": [
    "time_taylor = np.zeros(max_order + 1)\n",
    "\n",
    "# repeat expansions for different truncation orders (for timing only)\n",
    "for i in range(1, max_order + 1):\n",
    "    deg = [0.0] * i\n",
    "    deg[0] = 1.0\n",
    "    start = time.time()\n",
    "    c0, c = jet.jet(Gmat_x5_55, (x5,), (deg,))\n",
    "    end = time.time()\n",
    "    time_taylor[i] = end - start\n",
    "\n",
    "deriv_val_taylor = np.array([c0] + c)\n",
    "\n",
    "np.savez('_taylor.npz', time=time_taylor, val=deriv_val_taylor)"
   ]
  },
  {
   "cell_type": "code",
   "execution_count": null,
   "id": "a32fdfa2",
   "metadata": {},
   "outputs": [],
   "source": [
    "nested = np.load('_nested.npz')\n",
    "time_nested = nested['time']\n",
    "deriv_val_nested = nested['val']\n",
    "\n",
    "taylor = np.load('_taylor.npz')\n",
    "time_taylor = taylor['time']\n",
    "deriv_val_taylor = taylor['val']\n",
    "\n",
    "print(\"Order\", \"Nested\", \"      Taylor\", \"      difference\")\n",
    "for i, (d_nes, d_tay) in enumerate(zip(deriv_val_nested, deriv_val_taylor)):\n",
    "    print(f\"{i}   {d_nes:12.8f} {d_tay:12.8f} {(d_nes - d_tay):12.8f}\")"
   ]
  },
  {
   "cell_type": "code",
   "execution_count": null,
   "id": "d47e347f",
   "metadata": {},
   "outputs": [],
   "source": [
    "plt.figure(figsize=(6, 4), dpi=300)\n",
    "\n",
    "plt.plot(\n",
    "    np.arange(1, max_order + 1),\n",
    "    time_taylor[1:],\n",
    "    label=\"Taylor-mode AD\",\n",
    "    marker=\"o\",\n",
    "    linestyle=\"-\",\n",
    "    linewidth=\"1.5\",\n",
    "    markersize=5,\n",
    "    color='#264653',\n",
    ")\n",
    "plt.plot(\n",
    "    np.arange(1, max_order + 1),\n",
    "    time_nested[1:],\n",
    "    label=\"Nested AD\",\n",
    "    marker=\"s\",\n",
    "    linestyle=\"-\",\n",
    "    linewidth=\"1.5\",\n",
    "    markersize=5,\n",
    "    color='#e76f51',\n",
    ")\n",
    "\n",
    "plt.xlabel('Expansion order', fontsize=12)\n",
    "plt.ylabel('Computation time (s)', fontsize=12)\n",
    "plt.yscale('log')\n",
    "\n",
    "plt.grid(True, linestyle=':', alpha=0.6)\n",
    "plt.legend(fontsize=10)\n",
    "plt.xticks(fontsize=10)\n",
    "plt.yticks(fontsize=10)\n",
    "plt.tight_layout()"
   ]
  },
  {
   "cell_type": "code",
   "execution_count": 2,
   "id": "c096fc97",
   "metadata": {},
   "outputs": [],
   "source": [
    "# -----------------------------------------------------------------------------\n",
    "# Taylor‑mode helper\n",
    "# -----------------------------------------------------------------------------\n",
    "\n",
    "def taylor_coeffs(f, x0: float, order: int):\n",
    "    \"\"\"\n",
    "    Return [f(x0), f'(x0), …, f^{(order)}(x0)] via Taylor-mode AD.\n",
    "\n",
    "    For a scalar input we pass the unit tangent (1, 0, 0, …) to `jet`.\n",
    "    `series_out[k]` is then exactly f^{(k+1)}(x0) (no factorial scaling),\n",
    "    so we just collect them verbatim.\n",
    "    \"\"\"\n",
    "    x0_arr  = jnp.asarray(x0)\n",
    "    primals = (x0_arr,)\n",
    "\n",
    "    # (1, 0, 0, …)  – length = `order`\n",
    "    coeff_seq = (jnp.ones_like(x0_arr),) + tuple(\n",
    "        jnp.zeros_like(x0_arr) for _ in range(order - 1)\n",
    "    )\n",
    "    series_in = (coeff_seq,)\n",
    "\n",
    "    f0, series_out = jet.jet(f, primals, series_in)\n",
    "\n",
    "    # `series_out` is a tuple (len = order) holding f', f'', …\n",
    "    return [f0, *map(float, series_out)] "
   ]
  },
  {
   "cell_type": "markdown",
   "id": "5371fca7",
   "metadata": {},
   "source": [
    "## Quick correctness check\n",
    "We compute derivatives of $\\sin x$ at $x=0$ and compare with the known analytic\n",
    "values $\\{0,1,0,-1,0,1, …\\}$."
   ]
  },
  {
   "cell_type": "code",
   "execution_count": 71,
   "id": "5fc70b4a",
   "metadata": {},
   "outputs": [
    {
     "name": "stdout",
     "output_type": "stream",
     "text": [
      "Analytic : [0.0, 1.0, 0.0, -1.0, 0.0, 1.0, 0.0]\n",
      "Taylor-AD: [0.0, 1.0, 0.0, -1.0, 0.0, 1.0, 0.0]\n"
     ]
    }
   ],
   "source": [
    "# ------------------------------------------------------------------\n",
    "# Demo on sin\n",
    "# ------------------------------------------------------------------\n",
    "sin_coeffs = taylor_coeffs(jnp.sin, 0.0, order=6)\n",
    "print(\"Analytic :\", [0.0, 1.0, 0.0, -1.0, 0.0,  1.0, 0.0])\n",
    "print(\"Taylor-AD:\", [float(round(c, 3)) for c in sin_coeffs])"
   ]
  },
  {
   "cell_type": "code",
   "execution_count": 72,
   "id": "38737d0e",
   "metadata": {},
   "outputs": [],
   "source": [
    "# -----------------------------------------------------------------------------\n",
    "# 2  Vector helper – directional derivatives of f: ℝⁿ→ℝᵐ\n",
    "# -----------------------------------------------------------------------------\n",
    "\n",
    "def taylor_directional(f, x0, v, order=2):\n",
    "    \"\"\"Return [f(x0), D_v f, …, D_v^k f] via Taylor-mode AD.\"\"\"\n",
    "    # build the coefficient list for this one input\n",
    "    coeff_seq = [v] + [jax.tree_util.tree_map(jnp.zeros_like, v) for _ in range(order - 1)]\n",
    "    primals   = (x0,)\n",
    "    series_in = (coeff_seq,)            # ← **wrap once**\n",
    "\n",
    "    f0, series_out = jet.jet(f, primals, series_in)\n",
    "\n",
    "    coeffs = [f0]\n",
    "    for k, a_k in enumerate(series_out, 1):\n",
    "        coeffs.append(jax.tree_util.tree_map(lambda x: x * math.factorial(k), a_k))\n",
    "    return coeffs"
   ]
  },
  {
   "cell_type": "code",
   "execution_count": 73,
   "id": "d0f61855",
   "metadata": {},
   "outputs": [
    {
     "name": "stdout",
     "output_type": "stream",
     "text": [
      "Directional grad  D_v g = 336.0000000000012\n",
      "Quadratic form    vᵀ∇²g v = 1024.0\n"
     ]
    }
   ],
   "source": [
    "# ------------------------------------------------------------------\n",
    "# Example: g(x) = ‖x‖⁴  in ℝ⁴\n",
    "# ------------------------------------------------------------------\n",
    "g = lambda x: jnp.dot(x, x)**2\n",
    "\n",
    "x0 = jnp.arange(4.0)          # [0,1,2,3]\n",
    "v  = jnp.ones_like(x0)        # [1,1,1,1]\n",
    "\n",
    "g0, g1, g2 = taylor_directional(g, x0, v, order=2)\n",
    "\n",
    "print(\"Directional grad  D_v g =\", g1)     # should equal v·∇g\n",
    "print(\"Quadratic form    vᵀ∇²g v =\", g2)   # Hessian-vector-vector"
   ]
  },
  {
   "cell_type": "code",
   "execution_count": 89,
   "id": "8ade5e74",
   "metadata": {},
   "outputs": [],
   "source": [
    "# -----------------------------------------------------------------------------\n",
    "# 3  Utility wrappers for full tensors\n",
    "# -----------------------------------------------------------------------------\n",
    "\n",
    "def jacobian(f, x0):\n",
    "    \"\"\"Full first‑order Jacobian of f: ℝⁿ→ℝᵐ at `x0`.\"\"\"\n",
    "    return jax.jacfwd(f)(x0)  # choose jacrev if n≫m\n",
    "\n",
    "\n",
    "def hessian(f, x0):\n",
    "    \"\"\"Full Hessian of scalar‑output `f` via repeated `taylor_directional`.\"\"\"\n",
    "    n = x0.size\n",
    "    basis = jnp.eye(n)\n",
    "    cols = jax.vmap(lambda e: taylor_directional(f, x0, e, 2)[2])(basis)\n",
    "    return cols.T"
   ]
  },
  {
   "cell_type": "code",
   "execution_count": 91,
   "id": "f8852cb3",
   "metadata": {},
   "outputs": [
    {
     "data": {
      "image/png": "[encoded data removed]",
      "text/plain": [
       "<Figure size 640x480 with 1 Axes>"
      ]
     },
     "metadata": {},
     "output_type": "display_data"
    },
    {
     "data": {
      "text/plain": [
       "'\\n1. **Change expansion point** – set `x0 = 1.5` above and compare.\\n2. **Jacobian vs. jet** – verify `jacobian` for `f(x)=sin(Ax)` where `A∈ℝ^{5×3}`.\\n3. **Performance** – profile 6th derivative of `sin(exp(x))` via nested `grad`\\n   versus `taylor_coeffs`.\\n4. **Higher‑order tensors** – extend `hessian` to return ∇³f by iterating over\\n   basis *and* calling `taylor_directional` with `order=3`.\\n'"
      ]
     },
     "execution_count": 91,
     "metadata": {},
     "output_type": "execute_result"
    }
   ],
   "source": [
    "# -----------------------------------------------------------------------------\n",
    "# 4  Visual demo – Taylor polynomial of exp on [‑1,1]\n",
    "# -----------------------------------------------------------------------------\n",
    "import matplotlib.pyplot as plt\n",
    "\n",
    "# raw derivatives at x0 = 0\n",
    "coeffs = taylor_coeffs(jnp.exp, 0.0, order=5)    # [f, f', …, f^(5)]\n",
    "\n",
    "# divide by k! to get Taylor coefficients  a_k = f^{(k)}(0)/k!\n",
    "a = jnp.array([c / math.factorial(k) for k, c in enumerate(coeffs)])\n",
    "\n",
    "# jnp.polyval wants highest power first\n",
    "poly_coeffs = a[::-1]           # reverse to [a5, a4, …, a0]\n",
    "\n",
    "xs = jnp.linspace(-1.0, 1.0, 200)\n",
    "plt.plot(xs, jnp.exp(xs),           label=\"exp(x)\")\n",
    "plt.plot(xs, jnp.polyval(poly_coeffs, xs),\n",
    "         \"--\", label=\"5-term Taylor at 0\")\n",
    "plt.legend(); plt.tight_layout()\n",
    "plt.title(\"Taylor-mode AD: exp(x)\")\n",
    "plt.show()\n",
    "\n",
    "\n",
    "# -----------------------------------------------------------------------------\n",
    "# 5  Exercises\n",
    "# -----------------------------------------------------------------------------\n",
    "\"\"\"\n",
    "1. **Change expansion point** – set `x0 = 1.5` above and compare.\n",
    "2. **Jacobian vs. jet** – verify `jacobian` for `f(x)=sin(Ax)` where `A∈ℝ^{5×3}`.\n",
    "3. **Performance** – profile 6th derivative of `sin(exp(x))` via nested `grad`\n",
    "   versus `taylor_coeffs`.\n",
    "4. **Higher‑order tensors** – extend `hessian` to return ∇³f by iterating over\n",
    "   basis *and* calling `taylor_directional` with `order=3`.\n",
    "\"\"\""
   ]
  },
  {
   "cell_type": "code",
   "execution_count": null,
   "id": "4932668d",
   "metadata": {},
   "outputs": [],
   "source": [
    "# As an example, we compute derivatives of a specific element in the kinetic energy G-matrix of the six-atomic molecule formaldehyde (H2CO) with respect to one of its internal coordinates.\n"
   ]
  },
  {
   "cell_type": "code",
   "execution_count": 111,
   "id": "aa1ea72d",
   "metadata": {},
   "outputs": [],
   "source": [
    "x0 = jnp.array([1.2, 1.1, 1.1, 2.13, 2.13, jnp.pi])\n",
    "\n",
    "# Function, computing [5, 5] element of G-matrix as a function\n",
    "# of 5-th coordinate, with other coordinates fixed as `x0`\n",
    "Gmat_x5_55 = lambda x5: Gmat(jnp.where(jnp.arange(6) == 5, x5, x0))[5, 5]\n",
    "\n",
    "# reference value for 5-th coordinate\n",
    "x5 = jnp.pi\n",
    "\n",
    "# maximal expansion order\n",
    "max_order = 8"
   ]
  },
  {
   "cell_type": "code",
   "execution_count": 112,
   "id": "130c5881",
   "metadata": {},
   "outputs": [],
   "source": [
    "# First, compute high-order derivatives by recursively applying jax.grad\n",
    "time_nested = np.zeros(max_order + 1)\n",
    "\n",
    "deriv_func = [Gmat_x5_55]\n",
    "for i in range(1, max_order + 1):\n",
    "    start = time.time()\n",
    "    deriv_func.append(jax.grad(deriv_func[i - 1]))\n",
    "    end = time.time()\n",
    "    time_nested[i] = end - start\n",
    "\n",
    "deriv_val_nested = np.zeros(max_order + 1)\n",
    "\n",
    "deriv_val_nested[0] = deriv_func[0](x5)\n",
    "for i in range(1, max_order + 1):\n",
    "    start = time.time()\n",
    "    deriv_val_nested[i] = deriv_func[i](x5)\n",
    "    end = time.time()\n",
    "    time_nested[i] += end - start\n",
    "\n",
    "# cumulative time for expansion order ranging from 1 to max_order\n",
    "time_nested = np.cumsum(time_nested)\n",
    "\n",
    "np.savez('_nested.npz', time=time_nested, val=deriv_val_nested)"
   ]
  },
  {
   "cell_type": "code",
   "execution_count": null,
   "id": "b6318a2a",
   "metadata": {},
   "outputs": [],
   "source": []
  },
  {
   "cell_type": "code",
   "execution_count": null,
   "id": "27a98f9a",
   "metadata": {},
   "outputs": [],
   "source": []
  },
  {
   "cell_type": "code",
   "execution_count": 74,
   "id": "61c3d624",
   "metadata": {},
   "outputs": [],
   "source": [
    "import jax.numpy as jnp\n",
    "import math\n",
    "import jax \n",
    "from jax.experimental import jet\n",
    "import sympy as sp\n",
    "# load folders from ../src/ as modules\n",
    "import sys\n",
    "sys.path.append('../src/') \n",
    "from taylor_mode import forward_derivatives"
   ]
  },
  {
   "cell_type": "code",
   "execution_count": 75,
   "id": "c80bdc34",
   "metadata": {},
   "outputs": [
    {
     "name": "stdout",
     "output_type": "stream",
     "text": [
      "value 0.0\n",
      "first 1.0\n",
      "second -0.0\n"
     ]
    }
   ],
   "source": [
    "f = lambda x: jnp.sin(x)\n",
    "val, derivs = forward_derivatives(f, jnp.array(0.0), order=2)\n",
    "print(\"value\", val)\n",
    "print(\"first\", derivs[1])\n",
    "print(\"second\", derivs[2])"
   ]
  },
  {
   "cell_type": "code",
   "execution_count": 76,
   "id": "7d2fe395",
   "metadata": {},
   "outputs": [
    {
     "name": "stdout",
     "output_type": "stream",
     "text": [
      "[Array(0., dtype=float64, weak_type=True), Array(1., dtype=float64, weak_type=True), Array(-0., dtype=float64, weak_type=True), Array(-1., dtype=float64, weak_type=True)]\n"
     ]
    }
   ],
   "source": [
    "from taylor_mode import taylor_series_coefficients\n",
    "coeffs = taylor_series_coefficients(jnp.sin, jnp.array(0.0), order=3)\n",
    "print(coeffs)"
   ]
  },
  {
   "cell_type": "markdown",
   "id": "d13c2184",
   "metadata": {},
   "source": [
    "## Quick correctness check\n",
    "We compute derivatives of $\\sin x$ at $x=0$ and compare with the known analytic\n",
    "values $\\{0,1,0,-1,0,1, …\\}$."
   ]
  },
  {
   "cell_type": "code",
   "execution_count": 77,
   "id": "37fe0e05",
   "metadata": {},
   "outputs": [
    {
     "name": "stdout",
     "output_type": "stream",
     "text": [
      "Analytic : [0.0, 1.0, 0.0, -1.0, 0.0, 1.0, 0.0]\n",
      "Taylor-AD: [0.0, 1.0, 0.0, -1.0, 0.0, 1.0, 0.0]\n"
     ]
    }
   ],
   "source": [
    "# ------------------------------------------------------------------\n",
    "# Demo on sin\n",
    "# ------------------------------------------------------------------\n",
    "sin_coeffs = taylor_coeffs(jnp.sin, 0.0, order=6)\n",
    "print(\"Analytic :\", [0.0, 1.0, 0.0, -1.0, 0.0,  1.0, 0.0])\n",
    "print(\"Taylor-AD:\", [float(round(c, 3)) for c in sin_coeffs])"
   ]
  },
  {
   "cell_type": "code",
   "execution_count": 78,
   "id": "c57c657a",
   "metadata": {},
   "outputs": [
    {
     "data": {
      "image/png": "[encoded data removed]",
      "text/plain": [
       "<Figure size 640x480 with 1 Axes>"
      ]
     },
     "metadata": {},
     "output_type": "display_data"
    }
   ],
   "source": [
    "import matplotlib.pyplot as plt\n",
    "\n",
    "# raw derivatives at x0 = 0\n",
    "coeffs = taylor_coeffs(jnp.exp, 0.0, order=5)    # [f, f', …, f^(5)]\n",
    "\n",
    "# divide by k! to get Taylor coefficients  a_k = f^{(k)}(0)/k!\n",
    "a = jnp.array([c / math.factorial(k) for k, c in enumerate(coeffs)])\n",
    "\n",
    "# jnp.polyval wants highest power first\n",
    "poly_coeffs = a[::-1]           # reverse to [a5, a4, …, a0]\n",
    "\n",
    "xs = jnp.linspace(-1.0, 1.0, 200)\n",
    "plt.plot(xs, jnp.exp(xs),           label=\"exp(x)\")\n",
    "plt.plot(xs, jnp.polyval(poly_coeffs, xs),\n",
    "         \"--\", label=\"5-term Taylor at 0\")\n",
    "plt.legend(); plt.tight_layout()\n",
    "plt.title(\"Taylor-mode AD: exp(x)\")\n",
    "plt.show()\n",
    "\n"
   ]
  },
  {
   "cell_type": "markdown",
   "id": "9474bb3b",
   "metadata": {},
   "source": [
    "### Exercises\n",
    "1. **Vary the expansion point**: change `x0` in `taylor_coeffs` to 1.5 and verify\n",
    "   that the polynomial still matches $e^x$ locally.\n",
    "2. **Higher dimensions**: extend `taylor_coeffs` to accept a *vector* `x0` and a\n",
    "   direction `v`; check that the first derivative matches `jax.grad` in that\n",
    "   direction.\n",
    "3. **Performance**: profile computing the 6th derivative of a composed function\n",
    "   (e.g. `lambda x: jnp.sin(jnp.exp(x))`) with nested `jax.grad` vs.\n",
    "   `taylor_coeffs`.\n"
   ]
  },
  {
   "cell_type": "code",
   "execution_count": null,
   "id": "db80aeae",
   "metadata": {},
   "outputs": [],
   "source": []
  },
  {
   "cell_type": "code",
   "execution_count": 79,
   "id": "68eb8269",
   "metadata": {},
   "outputs": [
    {
     "name": "stdout",
     "output_type": "stream",
     "text": [
      "JAX version: 0.6.1\n"
     ]
    }
   ],
   "source": [
    "# Setup and Imports \n",
    "import jax, jax.numpy as jnp\n",
    "from jax.experimental import jet\n",
    "print(\"JAX version:\", jax.__version__)\n",
    "jax.config.update(\"jax_enable_x64\", True)     # keep numerics stable"
   ]
  },
  {
   "cell_type": "markdown",
   "id": "2061cdf8",
   "metadata": {},
   "source": [
    "| Mode | Primitive | What it returns | Typical use |\n",
    "|------|-----------|-----------------|-------------|\n",
    "| Forward | `jax.jvp` | value & 1st-order directional derivative | Jacobian-vector products |\n",
    "| Reverse | `jax.vjp / grad` | value & pullbacks | gradients, back-prop |\n",
    "| **Taylor** | **`jet.jet`** | *truncated Taylor polynomial* $(f_0,\\dots,f_K)$ | *all* higher derivatives along one direction in a **single pass** |\n",
    "\n",
    "Because it propagates truncated polynomials rather than single tangents/cotangents, Taylor mode avoids the $K$\n",
    "K-fold tracing overhead of nested jacfwd/jacrev and uses far less memory on deep nets"
   ]
  },
  {
   "cell_type": "code",
   "execution_count": 80,
   "id": "94a52422",
   "metadata": {},
   "outputs": [
    {
     "name": "stdout",
     "output_type": "stream",
     "text": [
      "f(x0)     = 6.718849697428256\n",
      "∂f/∂x|v=1 = 3.643917376788898\n",
      "∂f/∂x|v=1 (closed form) = 3.6439173767888913\n"
     ]
    }
   ],
   "source": [
    "# API Basics\n",
    "def g(x):                    # any JAX-compatible function\n",
    "    return jnp.sin(x) * jnp.exp(x)\n",
    "\n",
    "def closed_d1(x):\n",
    "    return ( jnp.cos(x) + jnp.sin(x) ) * jnp.exp(x)\n",
    "\n",
    "x0      = (2.0,)             # primals\n",
    "series1 = (1.0,)             # first-order offset  (v = 1) \n",
    "f0, (f1,) = jet.jet(g, x0, (series1,))\n",
    "print(\"f(x0)     =\", f0)\n",
    "print(\"∂f/∂x|v=1 =\", f1)\n",
    "print(\"∂f/∂x|v=1 (closed form) =\", closed_d1(x0[0]))\n"
   ]
  },
  {
   "cell_type": "markdown",
   "id": "036fc7ae",
   "metadata": {},
   "source": [
    "We can easily get the second order derivative by changing series to: \n",
    "\n",
    "```python\n",
    "series1 = (1.0, 0.0)\n",
    "```"
   ]
  },
  {
   "cell_type": "code",
   "execution_count": 81,
   "id": "fc61c395",
   "metadata": {},
   "outputs": [
    {
     "name": "stdout",
     "output_type": "stream",
     "text": [
      "f(x0)     = 6.718849697428256\n",
      "∂f/∂x|v=1 = 3.643917376788898\n",
      "∂²f/∂x²|v=1 = -6.149864641278714\n",
      "∂²f/∂x²|v=1 (closed form) = -6.149864641278718\n"
     ]
    }
   ],
   "source": [
    "series1 = (1.0, 0.0)  # first-order offset (v = 1, v' = 0)\n",
    "f0, (f1, f2) = jet.jet(g, x0, (series1,))\n",
    "\n",
    "def closed_d2(x):\n",
    "    return 2 * jnp.exp(x) * jnp.cos(x)\n",
    "print(\"f(x0)     =\", f0)\n",
    "print(\"∂f/∂x|v=1 =\", f1)\n",
    "print(\"∂²f/∂x²|v=1 =\", f2)\n",
    "print(\"∂²f/∂x²|v=1 (closed form) =\", closed_d2(x0[0]))"
   ]
  },
  {
   "cell_type": "code",
   "execution_count": 82,
   "id": "1134a19b",
   "metadata": {},
   "outputs": [],
   "source": [
    "# General rule is to supply a tuple per argument containing v, 1/2 v, ..."
   ]
  },
  {
   "cell_type": "code",
   "execution_count": 83,
   "id": "b029ad17",
   "metadata": {},
   "outputs": [
    {
     "name": "stdout",
     "output_type": "stream",
     "text": [
      "Laplacian = -3.108133403856503\n",
      "∂²/∂x² tanh(x)² = -3.10813340385648\n"
     ]
    }
   ],
   "source": [
    "# Second order example (Hessian Trace)  \n",
    "def f(x):\n",
    "    return jnp.sum(jnp.tanh(x)**2)\n",
    "\n",
    "x0 = jnp.ones(5)\n",
    "\n",
    "def second_directional(dir_vec):\n",
    "    # one Taylor series: first-order = dir_vec, second-order = 0\n",
    "    _, (_, f2) = jet.jet(f, (x0,), ((dir_vec, jnp.zeros_like(dir_vec)),))\n",
    "    return f2          # shape (5,) ← directional 2nd-derivative vector\n",
    "\n",
    "eye = jnp.eye(5)                      # 5 one-hot directions, each (5,)\n",
    "f2_all = jax.vmap(second_directional)(eye)   # shape (5,5)\n",
    "laplacian = jnp.sum(f2_all)          # ← this is the trace of the Hessian\n",
    "print(\"Laplacian =\", laplacian)\n",
    "\n",
    "# Closed-form check\n",
    "# one coordinate\n",
    "x = sp.symbols('x')\n",
    "f = sp.tanh(x)**2\n",
    "\n",
    "# second derivative\n",
    "f_xx = sp.diff(f, x, 2).simplify()\n",
    "\n",
    "# print closed-form expression\n",
    "# print(\"∂²/∂x² tanh(x)² =\", sp.simplify(f_xx))\n",
    "d = sp.symbols('d', integer=True, positive=True)\n",
    "laplacian = d * f_xx.subs(x, 1)         # evaluate at x = 1\n",
    "laplacian_simplified = sp.simplify(laplacian)\n",
    "# print(laplacian_simplified)\n",
    "import sympy as sp\n",
    "lap_val = laplacian_simplified.subs(d, 5).evalf()\n",
    "# print(lap_val)   # ≈ -3.1031334\n",
    "print(\"∂²/∂x² tanh(x)² =\", lap_val)\n",
    "\n"
   ]
  },
  {
   "cell_type": "code",
   "execution_count": 84,
   "id": "5432e281",
   "metadata": {},
   "outputs": [
    {
     "name": "stdout",
     "output_type": "stream",
     "text": [
      "nested time 0.005295515060424805\n",
      "jet time 0.0\n"
     ]
    }
   ],
   "source": [
    "# Performance sanity check\n",
    "import time, functools\n",
    "from jax import jacfwd, jit, random\n",
    "\n",
    "key = random.PRNGKey(0)\n",
    "W = random.normal(key, (1024, 1024))\n",
    "\n",
    "def big_fun(x):\n",
    "    return jnp.tanh(W @ x).sum()\n",
    "\n",
    "x0 = random.normal(key, (1024,))\n",
    "# Hessian-vector product with jacfwd(jacrev)\n",
    "t0 = time.time(); hvp = jacfwd(jax.grad(big_fun))(x0) ; print(\"nested time\", time.time()-t0)\n",
    "# Same with jet, degree=2\n",
    "series = ((jnp.eye(1024), jnp.zeros((1024,1024))),)\n",
    "t0 = time.time(); _, (_, f2) = jet.jet(big_fun, (x0,), series) ; print(\"jet time\", time.time()-t0)\n"
   ]
  },
  {
   "cell_type": "code",
   "execution_count": 85,
   "id": "a76ee895",
   "metadata": {},
   "outputs": [
    {
     "name": "stdout",
     "output_type": "stream",
     "text": [
      "(128,)\n",
      "(128,)\n"
     ]
    }
   ],
   "source": [
    "def f_jax(x):\n",
    "    return jnp.sum(jnp.tanh(x)**2)\n",
    "\n",
    "batched_fun = jax.vmap(f_jax)\n",
    "\n",
    "x_batch = jnp.linspace(-1, 1, 128)[:, None] * jnp.ones((128, 5))\n",
    "\n",
    "# two coefficients (1-st and 2-nd order), both zero – **LIST**, not tuple\n",
    "series = ([jnp.zeros_like(x_batch),   # v  (order-1)\n",
    "           jnp.zeros_like(x_batch)],) # w  (order-2)\n",
    "\n",
    "@jit\n",
    "def batched_jet(xs, ser):\n",
    "    vals, (f1, f2) = jet.jet(batched_fun, (xs,), ser)\n",
    "    return vals, f1          # f1 is order-1 coefficient (“directional grad”)\n",
    "\n",
    "vals, grads = batched_jet(x_batch, series)\n",
    "print(vals.shape)   # (128,)\n",
    "print(grads.shape)  # (128, 5)\n"
   ]
  },
  {
   "cell_type": "code",
   "execution_count": 86,
   "id": "03a67841",
   "metadata": {},
   "outputs": [
    {
     "name": "stdout",
     "output_type": "stream",
     "text": [
      "exp(0) ≈ 6.166666666666671\n"
     ]
    }
   ],
   "source": [
    "# Taylor series check\n",
    "# degree-3 jet of exp near 0\n",
    "f0,(f1,f2,f3) = jet.jet(jnp.exp, (0.0,), ((1.0,0.5,1/6),))\n",
    "print(\"exp(0) ≈\", f0 + f1 + f2 + f3)          # → 2.718...\n"
   ]
  },
  {
   "cell_type": "code",
   "execution_count": 87,
   "id": "1719fbf6",
   "metadata": {},
   "outputs": [
    {
     "name": "stdout",
     "output_type": "stream",
     "text": [
      "Jacobian-vector product: [ 0.54030231 -0.84147098]\n"
     ]
    }
   ],
   "source": [
    "# Vector valued output\n",
    "def F(x): return jnp.stack([jnp.sin(x), jnp.cos(x)])\n",
    "prim, (g,) = jet.jet(F, (1.0,), ((1.0,),))\n",
    "print(\"Jacobian-vector product:\", g)           # shows shape (2,)\n"
   ]
  },
  {
   "cell_type": "code",
   "execution_count": 88,
   "id": "e0c28200",
   "metadata": {},
   "outputs": [],
   "source": [
    "# May 2025: collapsing Taylor mode propagates one summed K-jet instead of K separate jets, giving another 1.3-2× speed-up on high-order PDE operators"
   ]
  },
  {
   "cell_type": "code",
   "execution_count": null,
   "id": "f5e377a9",
   "metadata": {},
   "outputs": [],
   "source": []
  }
 ],
 "metadata": {
  "kernelspec": {
   "display_name": "jax",
   "language": "python",
   "name": "python3"
  },
  "language_info": {
   "codemirror_mode": {
    "name": "ipython",
    "version": 3
   },
   "file_extension": ".py",
   "mimetype": "text/x-python",
   "name": "python",
   "nbconvert_exporter": "python",
   "pygments_lexer": "ipython3",
   "version": "3.11.9"
  }
 },
 "nbformat": 4,
 "nbformat_minor": 5
}
