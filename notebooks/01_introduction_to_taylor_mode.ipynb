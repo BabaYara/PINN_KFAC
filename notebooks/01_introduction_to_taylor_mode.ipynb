{
 "cells": [
  {
   "cell_type": "markdown",
   "id": "c826edaa",
   "metadata": {},
   "source": [
    "# Introduction to Taylor-mode"
   ]
  },
  {
   "cell_type": "code",
   "execution_count": null,
   "id": "61c3d624",
   "metadata": {},
   "outputs": [],
   "source": [
    "import jax.numpy as jnp\n",
    "from taylor_mode import forward_derivatives"
   ]
  },
  {
   "cell_type": "code",
   "execution_count": null,
   "id": "c80bdc34",
   "metadata": {},
   "outputs": [],
   "source": [
    "f = lambda x: jnp.sin(x)\n",
    "val, derivs = forward_derivatives(f, jnp.array(0.0), order=2)\n",
    "print(\"value\", val)\n",
    "print(\"first\", derivs[1])\n",
    "print(\"second\", derivs[2])"
   ]
  }
 ],
 "metadata": {},
 "nbformat": 4,
 "nbformat_minor": 5
}
