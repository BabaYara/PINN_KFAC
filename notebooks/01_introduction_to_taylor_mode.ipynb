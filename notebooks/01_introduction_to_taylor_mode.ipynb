{
 "cells": [
  {
   "cell_type": "markdown",
   "id": "c826edaa",
   "metadata": {},
   "source": [
    "# Introduction to Taylor-mode"
   ]
  },
  {
   "cell_type": "code",
   "execution_count": 1,
   "id": "61c3d624",
   "metadata": {},
   "outputs": [
    {
     "ename": "ModuleNotFoundError",
     "evalue": "No module named 'taylor_mode'",
     "output_type": "error",
     "traceback": [
      "\u001b[1;31m---------------------------------------------------------------------------\u001b[0m",
      "\u001b[1;31mModuleNotFoundError\u001b[0m                       Traceback (most recent call last)",
      "Cell \u001b[1;32mIn[1], line 2\u001b[0m\n\u001b[0;32m      1\u001b[0m \u001b[38;5;28;01mimport\u001b[39;00m \u001b[38;5;21;01mjax\u001b[39;00m\u001b[38;5;21;01m.\u001b[39;00m\u001b[38;5;21;01mnumpy\u001b[39;00m \u001b[38;5;28;01mas\u001b[39;00m \u001b[38;5;21;01mjnp\u001b[39;00m\n\u001b[1;32m----> 2\u001b[0m \u001b[38;5;28;01mfrom\u001b[39;00m \u001b[38;5;21;01mtaylor_mode\u001b[39;00m \u001b[38;5;28;01mimport\u001b[39;00m forward_derivatives\n",
      "\u001b[1;31mModuleNotFoundError\u001b[0m: No module named 'taylor_mode'"
     ]
    }
   ],
   "source": [
    "import jax.numpy as jnp\n",
    "from taylor_mode import forward_derivatives"
   ]
  },
  {
   "cell_type": "code",
   "execution_count": null,
   "id": "c80bdc34",
   "metadata": {},
   "outputs": [],
   "source": [
    "f = lambda x: jnp.sin(x)\n",
    "val, derivs = forward_derivatives(f, jnp.array(0.0), order=2)\n",
    "print(\"value\", val)\n",
    "print(\"first\", derivs[1])\n",
    "print(\"second\", derivs[2])"
   ]
  }
 ],
 "metadata": {
  "kernelspec": {
   "display_name": "jax",
   "language": "python",
   "name": "python3"
  },
  "language_info": {
   "codemirror_mode": {
    "name": "ipython",
    "version": 3
   },
   "file_extension": ".py",
   "mimetype": "text/x-python",
   "name": "python",
   "nbconvert_exporter": "python",
   "pygments_lexer": "ipython3",
   "version": "3.11.9"
  }
 },
 "nbformat": 4,
 "nbformat_minor": 5
}
