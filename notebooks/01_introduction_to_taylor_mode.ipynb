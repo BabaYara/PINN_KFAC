{
 "cells": [
  {
   "cell_type": "markdown",
   "id": "c826edaa",
   "metadata": {},
   "source": [
    "# Introduction to Taylor-mode"
   ]
  },
  {
   "cell_type": "code",
   "execution_count": 32,
   "id": "61c3d624",
   "metadata": {},
   "outputs": [],
   "source": [
    "import jax.numpy as jnp\n",
    "import sympy as sp\n",
    "# load folders from ../src/ as modules\n",
    "import sys\n",
    "sys.path.append('../src/') \n",
    "from taylor_mode import forward_derivatives"
   ]
  },
  {
   "cell_type": "code",
   "execution_count": 33,
   "id": "c80bdc34",
   "metadata": {},
   "outputs": [
    {
     "name": "stdout",
     "output_type": "stream",
     "text": [
      "value 0.0\n",
      "first 1.0\n",
      "second -0.0\n"
     ]
    }
   ],
   "source": [
    "f = lambda x: jnp.sin(x)\n",
    "val, derivs = forward_derivatives(f, jnp.array(0.0), order=2)\n",
    "print(\"value\", val)\n",
    "print(\"first\", derivs[1])\n",
    "print(\"second\", derivs[2])"
   ]
  },
  {
   "cell_type": "code",
   "metadata": {},
   "execution_count": null,
   "outputs": [],
   "source": [
    "from taylor_mode import taylor_series_coefficients\n",
    "coeffs = taylor_series_coefficients(jnp.sin, jnp.array(0.0), order=3)\n",
    "print(coeffs)"
   ]
  },
  {
   "cell_type": "code",
   "execution_count": 34,
   "id": "68eb8269",
   "metadata": {},
   "outputs": [
    {
     "name": "stdout",
     "output_type": "stream",
     "text": [
      "JAX version: 0.6.1\n"
     ]
    }
   ],
   "source": [
    "# Setup and Imports \n",
    "import jax, jax.numpy as jnp\n",
    "from jax.experimental import jet\n",
    "print(\"JAX version:\", jax.__version__)\n",
    "jax.config.update(\"jax_enable_x64\", True)     # keep numerics stable"
   ]
  },
  {
   "cell_type": "markdown",
   "id": "2061cdf8",
   "metadata": {},
   "source": [
    "| Mode       | Primitive        | What it returns                                 | Typical use                                                       |\n",
    "| ---------- | ---------------- | ----------------------------------------------- | ----------------------------------------------------------------- |\n",
    "| Forward    | `jax.jvp`        | value & 1st-order directional derivative        | Jacobian-vector products                                          |\n",
    "| Reverse    | `jax.vjp / grad` | value & pullbacks                               | gradients, back-prop                                              |\n",
    "| **Taylor** | **`jet.jet`**    | *truncated Taylor polynomial* $(f_0,\\dots,f_K)$ | *all* higher derivatives along one direction in a **single pass** |\n",
    "\n",
    "\n",
    "Because it propagates truncated polynomials rather than single tangents/cotangents, Taylor mode avoids the  $K$  \n",
    "K-fold tracing overhead of nested jacfwd/jacrev and uses far less memory on deep nets"
   ]
  },
  {
   "cell_type": "code",
   "execution_count": 35,
   "id": "94a52422",
   "metadata": {},
   "outputs": [
    {
     "name": "stdout",
     "output_type": "stream",
     "text": [
      "f(x0)     = 6.718849697428256\n",
      "\u2202f/\u2202x|v=1 = 3.643917376788898\n",
      "\u2202f/\u2202x|v=1 (closed form) = 3.6439173767888913\n"
     ]
    }
   ],
   "source": [
    "# API Basics\n",
    "def g(x):                    # any JAX-compatible function\n",
    "    return jnp.sin(x) * jnp.exp(x)\n",
    "\n",
    "def closed_d1(x):\n",
    "    return ( jnp.cos(x) + jnp.sin(x) ) * jnp.exp(x)\n",
    "\n",
    "x0      = (2.0,)             # primals\n",
    "series1 = (1.0,)             # first-order offset  (v = 1) \n",
    "f0, (f1,) = jet.jet(g, x0, (series1,))\n",
    "print(\"f(x0)     =\", f0)\n",
    "print(\"\u2202f/\u2202x|v=1 =\", f1)\n",
    "print(\"\u2202f/\u2202x|v=1 (closed form) =\", closed_d1(x0[0]))\n"
   ]
  },
  {
   "cell_type": "markdown",
   "id": "036fc7ae",
   "metadata": {},
   "source": [
    "We can easily get the second order derivative by chagning series to: \n",
    "\n",
    "series1 = (1.0, 0.0)"
   ]
  },
  {
   "cell_type": "code",
   "execution_count": 36,
   "id": "fc61c395",
   "metadata": {},
   "outputs": [
    {
     "name": "stdout",
     "output_type": "stream",
     "text": [
      "f(x0)     = 6.718849697428256\n",
      "\u2202f/\u2202x|v=1 = 3.643917376788898\n",
      "\u2202\u00b2f/\u2202x\u00b2|v=1 = -6.149864641278714\n",
      "\u2202\u00b2f/\u2202x\u00b2|v=1 (closed form) = -6.149864641278718\n"
     ]
    }
   ],
   "source": [
    "series1 = (1.0, 0.0)  # first-order offset (v = 1, v' = 0)\n",
    "f0, (f1, f2) = jet.jet(g, x0, (series1,))\n",
    "\n",
    "def closed_d2(x):\n",
    "    return 2 * jnp.exp(x) * jnp.cos(x)\n",
    "print(\"f(x0)     =\", f0)\n",
    "print(\"\u2202f/\u2202x|v=1 =\", f1)\n",
    "print(\"\u2202\u00b2f/\u2202x\u00b2|v=1 =\", f2)\n",
    "print(\"\u2202\u00b2f/\u2202x\u00b2|v=1 (closed form) =\", closed_d2(x0[0]))"
   ]
  },
  {
   "cell_type": "code",
   "execution_count": 37,
   "id": "1134a19b",
   "metadata": {},
   "outputs": [],
   "source": [
    "# General rule is to supply a tuple per argument containing v, 1/2 v, ..."
   ]
  },
  {
   "cell_type": "code",
   "execution_count": null,
   "id": "b029ad17",
   "metadata": {},
   "outputs": [
    {
     "name": "stdout",
     "output_type": "stream",
     "text": [
      "Laplacian = -3.108133403856503\n",
      "\u2202\u00b2/\u2202x\u00b2 tanh(x)\u00b2 = -3.10813340385648\n"
     ]
    }
   ],
   "source": [
    "# Second order example (Hessian Trace)  \n",
    "def f(x):\n",
    "    return jnp.sum(jnp.tanh(x)**2)\n",
    "\n",
    "x0 = jnp.ones(5)\n",
    "\n",
    "def second_directional(dir_vec):\n",
    "    # one Taylor series: first-order = dir_vec, second-order = 0\n",
    "    _, (_, f2) = jet.jet(f, (x0,), ((dir_vec, jnp.zeros_like(dir_vec)),))\n",
    "    return f2          # shape (5,) \u2190 directional 2nd-derivative vector\n",
    "\n",
    "eye = jnp.eye(5)                      # 5 one-hot directions, each (5,)\n",
    "f2_all = jax.vmap(second_directional)(eye)   # shape (5,5)\n",
    "laplacian = jnp.sum(f2_all)          # \u2190 this is the trace of the Hessian\n",
    "print(\"Laplacian =\", laplacian)\n",
    "\n",
    "# Closed-form check\n",
    "# one coordinate\n",
    "x = sp.symbols('x')\n",
    "f = sp.tanh(x)**2\n",
    "\n",
    "# second derivative\n",
    "f_xx = sp.diff(f, x, 2).simplify()\n",
    "\n",
    "# print closed-form expression\n",
    "# print(\"\u2202\u00b2/\u2202x\u00b2 tanh(x)\u00b2 =\", sp.simplify(f_xx))\n",
    "d = sp.symbols('d', integer=True, positive=True)\n",
    "laplacian = d * f_xx.subs(x, 1)         # evaluate at x = 1\n",
    "laplacian_simplified = sp.simplify(laplacian)\n",
    "# print(laplacian_simplified)\n",
    "import sympy as sp\n",
    "lap_val = laplacian_simplified.subs(d, 5).evalf()\n",
    "# print(lap_val)   # \u2248 -3.1031334\n",
    "print(\"\u2202\u00b2/\u2202x\u00b2 tanh(x)\u00b2 =\", lap_val)\n",
    "\n"
   ]
  },
  {
   "cell_type": "code",
   "execution_count": 60,
   "id": "5432e281",
   "metadata": {},
   "outputs": [
    {
     "name": "stdout",
     "output_type": "stream",
     "text": [
      "nested time 0.014540910720825195\n",
      "jet time 0.0019953250885009766\n"
     ]
    }
   ],
   "source": [
    "# Performance sanity check\n",
    "import time, functools\n",
    "from jax import jacfwd, jit, random\n",
    "\n",
    "key = random.PRNGKey(0)\n",
    "W = random.normal(key, (1024, 1024))\n",
    "\n",
    "def big_fun(x):\n",
    "    return jnp.tanh(W @ x).sum()\n",
    "\n",
    "x0 = random.normal(key, (1024,))\n",
    "# Hessian-vector product with jacfwd(jacrev)\n",
    "t0 = time.time(); hvp = jacfwd(jax.grad(big_fun))(x0) ; print(\"nested time\", time.time()-t0)\n",
    "# Same with jet, degree=2\n",
    "series = ((jnp.eye(1024), jnp.zeros((1024,1024))),)\n",
    "t0 = time.time(); _, (_, f2) = jet.jet(big_fun, (x0,), series) ; print(\"jet time\", time.time()-t0)\n"
   ]
  },
  {
   "cell_type": "code",
   "execution_count": 61,
   "id": "a76ee895",
   "metadata": {},
   "outputs": [
    {
     "name": "stdout",
     "output_type": "stream",
     "text": [
      "(128,)\n",
      "(128,)\n"
     ]
    }
   ],
   "source": [
    "def f_jax(x):\n",
    "    return jnp.sum(jnp.tanh(x)**2)\n",
    "\n",
    "batched_fun = jax.vmap(f_jax)\n",
    "\n",
    "x_batch = jnp.linspace(-1, 1, 128)[:, None] * jnp.ones((128, 5))\n",
    "\n",
    "# two coefficients (1-st and 2-nd order), both zero \u2013 **LIST**, not tuple\n",
    "series = ([jnp.zeros_like(x_batch),   # v  (order-1)\n",
    "           jnp.zeros_like(x_batch)],) # w  (order-2)\n",
    "\n",
    "@jit\n",
    "def batched_jet(xs, ser):\n",
    "    vals, (f1, f2) = jet.jet(batched_fun, (xs,), ser)\n",
    "    return vals, f1          # f1 is order-1 coefficient (\u201cdirectional grad\u201d)\n",
    "\n",
    "vals, grads = batched_jet(x_batch, series)\n",
    "print(vals.shape)   # (128,)\n",
    "print(grads.shape)  # (128, 5)\n"
   ]
  },
  {
   "cell_type": "code",
   "execution_count": 51,
   "id": "03a67841",
   "metadata": {},
   "outputs": [
    {
     "name": "stdout",
     "output_type": "stream",
     "text": [
      "exp(0) \u2248 6.166666666666671\n"
     ]
    }
   ],
   "source": [
    "# Taylor series check\n",
    "# degree-3 jet of exp near 0\n",
    "f0,(f1,f2,f3) = jet.jet(jnp.exp, (0.0,), ((1.0,0.5,1/6),))\n",
    "print(\"exp(0) \u2248\", f0 + f1 + f2 + f3)          # \u2192 2.718...\n"
   ]
  },
  {
   "cell_type": "code",
   "execution_count": null,
   "id": "1719fbf6",
   "metadata": {},
   "outputs": [
    {
     "name": "stdout",
     "output_type": "stream",
     "text": [
      "Jacobian-vector product: [ 0.54030231 -0.84147098]\n"
     ]
    }
   ],
   "source": [
    "# Vector valued output\n",
    "def F(x): return jnp.stack([jnp.sin(x), jnp.cos(x)])\n",
    "prim, (g,) = jet.jet(F, (1.0,), ((1.0,),))\n",
    "print(\"Jacobian-vector product:\", g)           # shows shape (2,)\n"
   ]
  },
  {
   "cell_type": "code",
   "execution_count": 53,
   "id": "e0c28200",
   "metadata": {},
   "outputs": [],
   "source": [
    "# May 2025: collapsing Taylor mode propagates one summed K-jet instead of K separate jets, giving another 1.3-2\u00d7 speed-up on high-order PDE operators"
   ]
  },
  {
   "cell_type": "code",
   "execution_count": null,
   "id": "f5e377a9",
   "metadata": {},
   "outputs": [],
   "source": []
  }
 ],
 "metadata": {
  "kernelspec": {
   "display_name": "jax",
   "language": "python",
   "name": "python3"
  },
  "language_info": {
   "codemirror_mode": {
    "name": "ipython",
    "version": 3
   },
   "file_extension": ".py",
   "mimetype": "text/x-python",
   "name": "python",
   "nbconvert_exporter": "python",
   "pygments_lexer": "ipython3",
   "version": "3.11.9"
  }
 },
 "nbformat": 4,
 "nbformat_minor": 5
}
