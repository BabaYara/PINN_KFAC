{
 "cells": [
  {
   "cell_type": "markdown",
   "metadata": {},
   "source": "# Heat Residual Demo"
  },
  {
   "cell_type": "code",
   "metadata": {},
   "source": "import jax.numpy as jnp\nfrom pinns.operators import heat_residual\n\nmodel = lambda xt: jnp.exp(-xt[1]) * jnp.sin(xt[0])\nxt = jnp.array([[0.1, 0.2]])\nprint('residual', heat_residual(model, xt))"
  }
 ],
 "metadata": {
  "kernelspec": {
   "display_name": "Python 3",
   "language": "python",
   "name": "python3"
  },
  "language_info": {
   "name": "python",
   "version": "3"
  }
 },
 "nbformat": 4,
 "nbformat_minor": 5
}
